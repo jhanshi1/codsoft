{
 "cells": [
  {
   "cell_type": "code",
   "execution_count": 1,
   "id": "9cb956d7",
   "metadata": {},
   "outputs": [],
   "source": [
    "import random"
   ]
  },
  {
   "cell_type": "code",
   "execution_count": 2,
   "id": "d05b548d",
   "metadata": {},
   "outputs": [
    {
     "name": "stdout",
     "output_type": "stream",
     "text": [
      "Enter your choice:rock\n",
      "User choice: rock\n",
      "Computer choice: rock\n",
      "It's a tie\n",
      "Your score: 0\n",
      "Computer's score: 0\n",
      "Do you want to continue(y/n):y\n",
      "Enter your choice:paper\n",
      "User choice: paper\n",
      "Computer choice: scissor\n",
      "You lose\n",
      "Your score: 0\n",
      "Computer's score: 1\n",
      "Do you want to continue(y/n):n\n"
     ]
    }
   ],
   "source": [
    "user_score=0\n",
    "computer_score=0\n",
    "while(True):\n",
    "    user=input(\"Enter your choice:\").strip().lower()\n",
    "    if user in ['rock','paper','scissor']:\n",
    "        computer=random.choice(['rock','paper','scissor'])\n",
    "        print(\"User choice:\",user)\n",
    "        print(\"Computer choice:\",computer)\n",
    "        if user==computer:\n",
    "            print(\"It's a tie\")\n",
    "        elif ((user=='rock' and computer=='paper') or\n",
    "              (user=='paper' and computer=='scissor') or\n",
    "              (user=='scissor' and computer=='rock')):\n",
    "            print(\"You lose\")\n",
    "            computer_score+=1\n",
    "        else:\n",
    "            print(\"You win\")\n",
    "            user_score+=1\n",
    "        print(\"Your score:\",user_score)\n",
    "        print(\"Computer's score:\",computer_score)\n",
    "    else:\n",
    "        print(\"Invalid choice\")\n",
    "    s=input(\"Do you want to continue(y/n):\").strip().lower()\n",
    "    if s!='y':\n",
    "        break;\n",
    "            "
   ]
  },
  {
   "cell_type": "code",
   "execution_count": null,
   "id": "acbf4d4a",
   "metadata": {},
   "outputs": [],
   "source": []
  }
 ],
 "metadata": {
  "kernelspec": {
   "display_name": "Python 3 (ipykernel)",
   "language": "python",
   "name": "python3"
  },
  "language_info": {
   "codemirror_mode": {
    "name": "ipython",
    "version": 3
   },
   "file_extension": ".py",
   "mimetype": "text/x-python",
   "name": "python",
   "nbconvert_exporter": "python",
   "pygments_lexer": "ipython3",
   "version": "3.11.5"
  }
 },
 "nbformat": 4,
 "nbformat_minor": 5
}
