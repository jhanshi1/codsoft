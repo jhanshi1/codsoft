{
 "cells": [
  {
   "cell_type": "code",
   "execution_count": 1,
   "id": "40155992",
   "metadata": {},
   "outputs": [],
   "source": [
    "def find_task(tasks,t):\n",
    "    if t not in tasks:\n",
    "        print(\"Task not found\")\n",
    "        return -1\n",
    "    for i in range(len(tasks)):\n",
    "        if tasks[i]==t:\n",
    "            return i"
   ]
  },
  {
   "cell_type": "code",
   "execution_count": 2,
   "id": "c36d5420",
   "metadata": {},
   "outputs": [
    {
     "name": "stdout",
     "output_type": "stream",
     "text": [
      "Enter choice\n",
      "1.Create task\n",
      "2.Update task\n",
      "3.Show task\n",
      "4.Delete task\n",
      "5.Exit\n",
      "1\n",
      "Enter a task:reading\n",
      "Task created\n",
      "Enter choice\n",
      "1.Create task\n",
      "2.Update task\n",
      "3.Show task\n",
      "4.Delete task\n",
      "5.Exit\n",
      "2\n",
      "Enter the task to be updated:reading\n",
      "Enter the new task:coding\n",
      "Enter choice\n",
      "1.Create task\n",
      "2.Update task\n",
      "3.Show task\n",
      "4.Delete task\n",
      "5.Exit\n",
      "3\n",
      "1 coding\n",
      "Enter choice\n",
      "1.Create task\n",
      "2.Update task\n",
      "3.Show task\n",
      "4.Delete task\n",
      "5.Exit\n",
      "4\n",
      "Enter the task to be deletedcoding\n",
      "Enter choice\n",
      "1.Create task\n",
      "2.Update task\n",
      "3.Show task\n",
      "4.Delete task\n",
      "5.Exit\n",
      "3\n",
      "No tasks\n",
      "Enter choice\n",
      "1.Create task\n",
      "2.Update task\n",
      "3.Show task\n",
      "4.Delete task\n",
      "5.Exit\n",
      "5\n"
     ]
    }
   ],
   "source": [
    "tasks=[]\n",
    "while(True):\n",
    "    print(\"Enter choice\")\n",
    "    print(\"1.Create task\")\n",
    "    print(\"2.Update task\")\n",
    "    print(\"3.Show task\")\n",
    "    print(\"4.Delete task\")\n",
    "    print(\"5.Exit\")\n",
    "    ch=int(input())\n",
    "    if ch==1:\n",
    "        t=input(\"Enter a task:\")\n",
    "        tasks.append(t)\n",
    "        print(\"Task created\")\n",
    "    elif ch==2:\n",
    "        u=input(\"Enter the task to be updated:\")\n",
    "        pos=find_task(tasks,u)\n",
    "        if pos!=-1:\n",
    "            tasks[pos]=input(\"Enter the new task:\")\n",
    "    elif ch==3:\n",
    "        if len(tasks)==0:\n",
    "            print(\"No tasks\")\n",
    "        for i in range(len(tasks)):\n",
    "            print(i+1,tasks[i])\n",
    "    elif ch==4:\n",
    "        d=input(\"Enter the task to be deleted\")\n",
    "        pos=find_task(tasks,d)\n",
    "        if pos!=-1:\n",
    "            tasks.pop(pos)\n",
    "    elif ch==5:\n",
    "        break\n",
    "    else:\n",
    "        print(\"Invalid choice\")\n",
    "    "
   ]
  },
  {
   "cell_type": "code",
   "execution_count": null,
   "id": "ce040841",
   "metadata": {},
   "outputs": [],
   "source": []
  }
 ],
 "metadata": {
  "kernelspec": {
   "display_name": "Python 3 (ipykernel)",
   "language": "python",
   "name": "python3"
  },
  "language_info": {
   "codemirror_mode": {
    "name": "ipython",
    "version": 3
   },
   "file_extension": ".py",
   "mimetype": "text/x-python",
   "name": "python",
   "nbconvert_exporter": "python",
   "pygments_lexer": "ipython3",
   "version": "3.11.5"
  }
 },
 "nbformat": 4,
 "nbformat_minor": 5
}
