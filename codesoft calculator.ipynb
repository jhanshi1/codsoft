{
 "cells": [
  {
   "cell_type": "code",
   "execution_count": 1,
   "id": "f16cfd8f",
   "metadata": {},
   "outputs": [
    {
     "name": "stdout",
     "output_type": "stream",
     "text": [
      "Enter first number:4\n",
      "Enter second number:6\n",
      "Enter the operator:+\n",
      "4 + 6 = 10\n",
      "Do you want to continue(Enter y)\n",
      "y\n",
      "Enter first number:4\n",
      "Enter second number:0\n",
      "Enter the operator:/\n",
      "Division not possible\n",
      "Do you want to continue(Enter y)\n",
      "n\n"
     ]
    }
   ],
   "source": [
    "while(True):\n",
    "    num1=int(input(\"Enter first number:\"))\n",
    "    num2=int(input(\"Enter second number:\"))\n",
    "    op=input(\"Enter the operator:\")\n",
    "    if op=='+':\n",
    "        print(num1,'+',num2,'=',num1+num2)\n",
    "    elif  op=='-':\n",
    "        print(num1,'-',num2,'=',num1-num2)\n",
    "    elif op=='*':\n",
    "        print(num1,'*',num2,'=',num1*num2)\n",
    "    elif op=='/':\n",
    "        if num2==0:\n",
    "            print(\"Division not possible\")\n",
    "        else:\n",
    "            print(num1,'/',num2,'=',num1/num2)\n",
    "    else:\n",
    "        print(\"invalid operator\")\n",
    "    print(\"Do you want to continue(Enter y)\")\n",
    "    p=input()\n",
    "    if (p!='y' and p!='Y'):\n",
    "        break\n"
   ]
  },
  {
   "cell_type": "code",
   "execution_count": null,
   "id": "9cb956d7",
   "metadata": {},
   "outputs": [],
   "source": []
  },
  {
   "cell_type": "code",
   "execution_count": null,
   "id": "adc44d2b",
   "metadata": {},
   "outputs": [],
   "source": []
  }
 ],
 "metadata": {
  "kernelspec": {
   "display_name": "Python 3 (ipykernel)",
   "language": "python",
   "name": "python3"
  },
  "language_info": {
   "codemirror_mode": {
    "name": "ipython",
    "version": 3
   },
   "file_extension": ".py",
   "mimetype": "text/x-python",
   "name": "python",
   "nbconvert_exporter": "python",
   "pygments_lexer": "ipython3",
   "version": "3.11.5"
  }
 },
 "nbformat": 4,
 "nbformat_minor": 5
}
